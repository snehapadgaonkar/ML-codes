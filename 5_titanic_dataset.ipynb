{
 "cells": [
  {
   "cell_type": "markdown",
   "metadata": {},
   "source": [
    "# Logistic Regression of Titanic Dataset"
   ]
  },
  {
   "cell_type": "markdown",
   "metadata": {},
   "source": [
    "## Importing Required libraries"
   ]
  },
  {
   "cell_type": "code",
   "execution_count": 2,
   "metadata": {},
   "outputs": [],
   "source": [
    "import numpy as np\n",
    "import pandas as pd\n",
    "from sklearn import preprocessing\n",
    "import matplotlib.pyplot as plt\n",
    "import seaborn as sns"
   ]
  },
  {
   "cell_type": "markdown",
   "metadata": {},
   "source": [
    "## Importing the datasets"
   ]
  },
  {
   "cell_type": "code",
   "execution_count": 4,
   "metadata": {},
   "outputs": [],
   "source": [
    "train_df=pd.read_csv('train.csv')\n",
    "test_df=pd.read_csv('test.csv')"
   ]
  },
  {
   "cell_type": "code",
   "execution_count": 9,
   "metadata": {},
   "outputs": [
    {
     "data": {
      "text/html": [
       "<div>\n",
       "<style scoped>\n",
       "    .dataframe tbody tr th:only-of-type {\n",
       "        vertical-align: middle;\n",
       "    }\n",
       "\n",
       "    .dataframe tbody tr th {\n",
       "        vertical-align: top;\n",
       "    }\n",
       "\n",
       "    .dataframe thead th {\n",
       "        text-align: right;\n",
       "    }\n",
       "</style>\n",
       "<table border=\"1\" class=\"dataframe\">\n",
       "  <thead>\n",
       "    <tr style=\"text-align: right;\">\n",
       "      <th></th>\n",
       "      <th>PassengerId</th>\n",
       "      <th>Survived</th>\n",
       "      <th>Pclass</th>\n",
       "      <th>Name</th>\n",
       "      <th>Sex</th>\n",
       "      <th>Age</th>\n",
       "      <th>SibSp</th>\n",
       "      <th>Parch</th>\n",
       "      <th>Ticket</th>\n",
       "      <th>Fare</th>\n",
       "      <th>Cabin</th>\n",
       "      <th>Embarked</th>\n",
       "    </tr>\n",
       "  </thead>\n",
       "  <tbody>\n",
       "    <tr>\n",
       "      <th>0</th>\n",
       "      <td>1</td>\n",
       "      <td>0</td>\n",
       "      <td>3</td>\n",
       "      <td>Braund, Mr. Owen Harris</td>\n",
       "      <td>male</td>\n",
       "      <td>22.0</td>\n",
       "      <td>1</td>\n",
       "      <td>0</td>\n",
       "      <td>A/5 21171</td>\n",
       "      <td>7.2500</td>\n",
       "      <td>NaN</td>\n",
       "      <td>S</td>\n",
       "    </tr>\n",
       "    <tr>\n",
       "      <th>1</th>\n",
       "      <td>2</td>\n",
       "      <td>1</td>\n",
       "      <td>1</td>\n",
       "      <td>Cumings, Mrs. John Bradley (Florence Briggs Th...</td>\n",
       "      <td>female</td>\n",
       "      <td>38.0</td>\n",
       "      <td>1</td>\n",
       "      <td>0</td>\n",
       "      <td>PC 17599</td>\n",
       "      <td>71.2833</td>\n",
       "      <td>C85</td>\n",
       "      <td>C</td>\n",
       "    </tr>\n",
       "    <tr>\n",
       "      <th>2</th>\n",
       "      <td>3</td>\n",
       "      <td>1</td>\n",
       "      <td>3</td>\n",
       "      <td>Heikkinen, Miss. Laina</td>\n",
       "      <td>female</td>\n",
       "      <td>26.0</td>\n",
       "      <td>0</td>\n",
       "      <td>0</td>\n",
       "      <td>STON/O2. 3101282</td>\n",
       "      <td>7.9250</td>\n",
       "      <td>NaN</td>\n",
       "      <td>S</td>\n",
       "    </tr>\n",
       "    <tr>\n",
       "      <th>3</th>\n",
       "      <td>4</td>\n",
       "      <td>1</td>\n",
       "      <td>1</td>\n",
       "      <td>Futrelle, Mrs. Jacques Heath (Lily May Peel)</td>\n",
       "      <td>female</td>\n",
       "      <td>35.0</td>\n",
       "      <td>1</td>\n",
       "      <td>0</td>\n",
       "      <td>113803</td>\n",
       "      <td>53.1000</td>\n",
       "      <td>C123</td>\n",
       "      <td>S</td>\n",
       "    </tr>\n",
       "    <tr>\n",
       "      <th>4</th>\n",
       "      <td>5</td>\n",
       "      <td>0</td>\n",
       "      <td>3</td>\n",
       "      <td>Allen, Mr. William Henry</td>\n",
       "      <td>male</td>\n",
       "      <td>35.0</td>\n",
       "      <td>0</td>\n",
       "      <td>0</td>\n",
       "      <td>373450</td>\n",
       "      <td>8.0500</td>\n",
       "      <td>NaN</td>\n",
       "      <td>S</td>\n",
       "    </tr>\n",
       "  </tbody>\n",
       "</table>\n",
       "</div>"
      ],
      "text/plain": [
       "   PassengerId  Survived  Pclass  \\\n",
       "0            1         0       3   \n",
       "1            2         1       1   \n",
       "2            3         1       3   \n",
       "3            4         1       1   \n",
       "4            5         0       3   \n",
       "\n",
       "                                                Name     Sex   Age  SibSp  \\\n",
       "0                            Braund, Mr. Owen Harris    male  22.0      1   \n",
       "1  Cumings, Mrs. John Bradley (Florence Briggs Th...  female  38.0      1   \n",
       "2                             Heikkinen, Miss. Laina  female  26.0      0   \n",
       "3       Futrelle, Mrs. Jacques Heath (Lily May Peel)  female  35.0      1   \n",
       "4                           Allen, Mr. William Henry    male  35.0      0   \n",
       "\n",
       "   Parch            Ticket     Fare Cabin Embarked  \n",
       "0      0         A/5 21171   7.2500   NaN        S  \n",
       "1      0          PC 17599  71.2833   C85        C  \n",
       "2      0  STON/O2. 3101282   7.9250   NaN        S  \n",
       "3      0            113803  53.1000  C123        S  \n",
       "4      0            373450   8.0500   NaN        S  "
      ]
     },
     "execution_count": 9,
     "metadata": {},
     "output_type": "execute_result"
    }
   ],
   "source": [
    "train_df.head(5)"
   ]
  },
  {
   "cell_type": "code",
   "execution_count": 10,
   "metadata": {},
   "outputs": [
    {
     "data": {
      "text/html": [
       "<div>\n",
       "<style scoped>\n",
       "    .dataframe tbody tr th:only-of-type {\n",
       "        vertical-align: middle;\n",
       "    }\n",
       "\n",
       "    .dataframe tbody tr th {\n",
       "        vertical-align: top;\n",
       "    }\n",
       "\n",
       "    .dataframe thead th {\n",
       "        text-align: right;\n",
       "    }\n",
       "</style>\n",
       "<table border=\"1\" class=\"dataframe\">\n",
       "  <thead>\n",
       "    <tr style=\"text-align: right;\">\n",
       "      <th></th>\n",
       "      <th>PassengerId</th>\n",
       "      <th>Pclass</th>\n",
       "      <th>Name</th>\n",
       "      <th>Sex</th>\n",
       "      <th>Age</th>\n",
       "      <th>SibSp</th>\n",
       "      <th>Parch</th>\n",
       "      <th>Ticket</th>\n",
       "      <th>Fare</th>\n",
       "      <th>Cabin</th>\n",
       "      <th>Embarked</th>\n",
       "    </tr>\n",
       "  </thead>\n",
       "  <tbody>\n",
       "    <tr>\n",
       "      <th>0</th>\n",
       "      <td>892</td>\n",
       "      <td>3</td>\n",
       "      <td>Kelly, Mr. James</td>\n",
       "      <td>male</td>\n",
       "      <td>34.5</td>\n",
       "      <td>0</td>\n",
       "      <td>0</td>\n",
       "      <td>330911</td>\n",
       "      <td>7.8292</td>\n",
       "      <td>NaN</td>\n",
       "      <td>Q</td>\n",
       "    </tr>\n",
       "    <tr>\n",
       "      <th>1</th>\n",
       "      <td>893</td>\n",
       "      <td>3</td>\n",
       "      <td>Wilkes, Mrs. James (Ellen Needs)</td>\n",
       "      <td>female</td>\n",
       "      <td>47.0</td>\n",
       "      <td>1</td>\n",
       "      <td>0</td>\n",
       "      <td>363272</td>\n",
       "      <td>7.0000</td>\n",
       "      <td>NaN</td>\n",
       "      <td>S</td>\n",
       "    </tr>\n",
       "    <tr>\n",
       "      <th>2</th>\n",
       "      <td>894</td>\n",
       "      <td>2</td>\n",
       "      <td>Myles, Mr. Thomas Francis</td>\n",
       "      <td>male</td>\n",
       "      <td>62.0</td>\n",
       "      <td>0</td>\n",
       "      <td>0</td>\n",
       "      <td>240276</td>\n",
       "      <td>9.6875</td>\n",
       "      <td>NaN</td>\n",
       "      <td>Q</td>\n",
       "    </tr>\n",
       "    <tr>\n",
       "      <th>3</th>\n",
       "      <td>895</td>\n",
       "      <td>3</td>\n",
       "      <td>Wirz, Mr. Albert</td>\n",
       "      <td>male</td>\n",
       "      <td>27.0</td>\n",
       "      <td>0</td>\n",
       "      <td>0</td>\n",
       "      <td>315154</td>\n",
       "      <td>8.6625</td>\n",
       "      <td>NaN</td>\n",
       "      <td>S</td>\n",
       "    </tr>\n",
       "    <tr>\n",
       "      <th>4</th>\n",
       "      <td>896</td>\n",
       "      <td>3</td>\n",
       "      <td>Hirvonen, Mrs. Alexander (Helga E Lindqvist)</td>\n",
       "      <td>female</td>\n",
       "      <td>22.0</td>\n",
       "      <td>1</td>\n",
       "      <td>1</td>\n",
       "      <td>3101298</td>\n",
       "      <td>12.2875</td>\n",
       "      <td>NaN</td>\n",
       "      <td>S</td>\n",
       "    </tr>\n",
       "  </tbody>\n",
       "</table>\n",
       "</div>"
      ],
      "text/plain": [
       "   PassengerId  Pclass                                          Name     Sex  \\\n",
       "0          892       3                              Kelly, Mr. James    male   \n",
       "1          893       3              Wilkes, Mrs. James (Ellen Needs)  female   \n",
       "2          894       2                     Myles, Mr. Thomas Francis    male   \n",
       "3          895       3                              Wirz, Mr. Albert    male   \n",
       "4          896       3  Hirvonen, Mrs. Alexander (Helga E Lindqvist)  female   \n",
       "\n",
       "    Age  SibSp  Parch   Ticket     Fare Cabin Embarked  \n",
       "0  34.5      0      0   330911   7.8292   NaN        Q  \n",
       "1  47.0      1      0   363272   7.0000   NaN        S  \n",
       "2  62.0      0      0   240276   9.6875   NaN        Q  \n",
       "3  27.0      0      0   315154   8.6625   NaN        S  \n",
       "4  22.0      1      1  3101298  12.2875   NaN        S  "
      ]
     },
     "execution_count": 10,
     "metadata": {},
     "output_type": "execute_result"
    }
   ],
   "source": [
    "test_df.head(5)"
   ]
  },
  {
   "cell_type": "code",
   "execution_count": 8,
   "metadata": {},
   "outputs": [
    {
     "data": {
      "text/plain": [
       "(891, 12)"
      ]
     },
     "execution_count": 8,
     "metadata": {},
     "output_type": "execute_result"
    }
   ],
   "source": [
    "train_df.shape"
   ]
  },
  {
   "cell_type": "code",
   "execution_count": 11,
   "metadata": {},
   "outputs": [
    {
     "data": {
      "text/plain": [
       "891"
      ]
     },
     "execution_count": 11,
     "metadata": {},
     "output_type": "execute_result"
    }
   ],
   "source": [
    "train_df.shape[0] #no. of rows"
   ]
  },
  {
   "cell_type": "markdown",
   "metadata": {},
   "source": [
    "## Calculating Null Values"
   ]
  },
  {
   "cell_type": "code",
   "execution_count": 13,
   "metadata": {},
   "outputs": [
    {
     "data": {
      "text/plain": [
       "PassengerId      0\n",
       "Survived         0\n",
       "Pclass           0\n",
       "Name             0\n",
       "Sex              0\n",
       "Age            177\n",
       "SibSp            0\n",
       "Parch            0\n",
       "Ticket           0\n",
       "Fare             0\n",
       "Cabin          687\n",
       "Embarked         2\n",
       "dtype: int64"
      ]
     },
     "execution_count": 13,
     "metadata": {},
     "output_type": "execute_result"
    }
   ],
   "source": [
    "train_df.isnull().sum()"
   ]
  },
  {
   "cell_type": "markdown",
   "metadata": {},
   "source": [
    "## Plotting Histogram"
   ]
  },
  {
   "cell_type": "code",
   "execution_count": 21,
   "metadata": {},
   "outputs": [
    {
     "data": {
      "image/png": "[encoded data removed]",
      "text/plain": [
       "<Figure size 640x480 with 1 Axes>"
      ]
     },
     "metadata": {},
     "output_type": "display_data"
    }
   ],
   "source": [
    "data = np.random.randn(1000)\n",
    " \n",
    "# Plotting a basic histogram\n",
    "plt.hist(train_df['Age'], bins=80, color='skyblue', edgecolor='black')\n",
    " \n",
    "# Adding labels and title\n",
    "plt.xlabel('Age')\n",
    "plt.ylabel('Frequency')\n",
    "plt.title('Age Histogram')\n",
    " \n",
    "# Display the plot\n",
    "plt.show()"
   ]
  },
  {
   "cell_type": "markdown",
   "metadata": {},
   "source": [
    "This is a right skewed graph\\\n",
    "Mean > Median > Mode"
   ]
  },
  {
   "cell_type": "code",
   "execution_count": 19,
   "metadata": {},
   "outputs": [
    {
     "data": {
      "text/plain": [
       "array([ 2.03229902e-01,  5.40132863e-01, -5.07653707e-01, -7.34916391e-01,\n",
       "       -1.19992716e-01,  1.32179125e+00, -2.21102526e-01, -9.32106278e-01,\n",
       "       -5.47824446e-01,  1.99274703e-01,  2.62257330e-01,  5.56443756e-01,\n",
       "       -4.97396865e-01,  8.93400557e-01, -3.59240989e-01, -1.33728453e+00,\n",
       "       -4.70714888e-01, -6.98859329e-01, -2.26201953e+00, -7.54593378e-02,\n",
       "        8.78429043e-01,  1.06356032e+00, -3.48357935e-01,  1.83603341e+00,\n",
       "       -1.02830904e+00,  6.19944171e-01,  2.62618632e+00,  1.35627692e+00,\n",
       "        6.88865036e-02,  7.97087559e-02, -1.44233893e+00,  5.42844916e-02,\n",
       "       -5.38024309e-01, -1.49367912e-01,  9.52446995e-01, -1.26461600e+00,\n",
       "        3.92549266e-01,  1.57616199e-01,  9.05171714e-01, -1.01957292e+00,\n",
       "        1.51371973e-01, -2.53915826e-01, -4.06496600e-01, -1.45231944e+00,\n",
       "       -7.37790244e-01,  9.11113225e-01, -9.72760380e-02,  1.99410216e+00,\n",
       "        5.68999415e-01,  2.07638108e+00,  2.00989407e-01, -5.52885938e-01,\n",
       "       -8.88072868e-02,  6.46234663e-02, -4.25619119e-01,  1.33236720e+00,\n",
       "       -1.21746001e+00,  6.42188739e-03, -7.12889395e-01, -1.38687194e+00,\n",
       "       -4.61959548e-01,  9.99046537e-01,  1.38831320e+00, -2.09943394e+00,\n",
       "        1.39208543e-02, -9.44036475e-01,  3.63398061e-01,  7.40199747e-01,\n",
       "        1.50166758e+00, -5.72390837e-01,  2.46632348e-01, -5.53343245e-01,\n",
       "        1.53339391e+00,  2.90724754e-01, -7.65239505e-01,  9.89003152e-01,\n",
       "        7.44379646e-01,  7.24844474e-01, -7.39786126e-02,  4.44715035e-01,\n",
       "       -4.40844021e-01,  9.25098395e-02,  1.10862919e-01,  4.54301051e-01,\n",
       "       -8.09943742e-01,  1.13323682e+00,  1.43609657e+00,  1.44392806e+00,\n",
       "        5.22437570e-02,  1.06221765e+00, -1.12276865e+00,  6.88574528e-01,\n",
       "       -1.12454435e+00,  1.69518871e+00,  2.31626968e-01, -8.75291839e-01,\n",
       "        1.39767493e+00,  8.80507672e-01, -1.20168519e+00, -4.67772070e-01,\n",
       "       -1.77159523e+00, -1.94615849e-01, -6.98584952e-01, -7.79377275e-01,\n",
       "       -8.44148810e-01, -9.68031763e-01,  1.92398410e-01, -1.81900259e+00,\n",
       "       -7.79473585e-01, -1.18570666e+00, -1.30302142e+00,  9.40968908e-01,\n",
       "        1.09682125e+00, -9.07390529e-01,  3.59053428e-01,  1.91948947e-01,\n",
       "       -8.15357893e-01, -4.68089250e-02, -1.24430545e+00, -8.57861754e-02,\n",
       "        1.03394917e+00, -9.60278587e-01, -1.84426953e+00,  7.95184344e-01,\n",
       "        1.20846499e+00,  1.30189982e-02, -1.76886641e+00, -1.38607508e+00,\n",
       "        5.01012628e-01,  1.42509340e+00,  4.68566363e-02, -4.33224772e-01,\n",
       "        7.16393164e-01,  4.89681063e-01, -2.39161236e-01, -5.18672946e-01,\n",
       "        1.94780835e+00, -1.05432295e+00, -6.83520324e-01,  5.07833053e-01,\n",
       "        2.12172728e+00, -3.23329529e-01, -3.76546043e-02,  1.55912179e+00,\n",
       "        2.08790814e+00, -2.04889586e-01, -3.81480064e-01, -1.13541097e-01,\n",
       "        6.06631716e-01,  1.02370242e+00, -4.69447309e-01, -3.94097055e-01,\n",
       "       -1.32417579e+00,  2.00463096e-01, -1.13316772e+00, -4.40853336e-01,\n",
       "       -2.15582196e+00, -4.45037213e-01,  1.60561390e+00,  5.22232745e-01,\n",
       "       -3.00351114e-01,  4.62373823e-01, -9.29143935e-01, -1.71035657e+00,\n",
       "       -9.99153776e-01, -1.24891145e+00,  1.04801462e+00,  1.74428949e+00,\n",
       "        1.67386905e+00,  9.86697644e-01, -1.23222097e+00,  7.02643458e-01,\n",
       "       -2.97592969e-01,  2.32000428e+00,  7.74724831e-02,  2.46702471e-01,\n",
       "        4.40152992e-01, -1.13944648e+00,  4.14653822e-01, -3.37767101e-01,\n",
       "        7.08482151e-01,  2.12273079e+00,  7.18992109e-01,  1.89485784e-02,\n",
       "        1.87419170e+00, -1.44789447e-01,  8.71924222e-01,  2.36939530e+00,\n",
       "        1.15805475e+00,  2.07354848e-01, -3.59837438e-02, -2.64186721e+00,\n",
       "       -1.71562058e+00, -1.44899239e-01, -1.72130186e+00, -3.97168769e-01,\n",
       "       -1.39518055e+00, -2.86424258e-01, -4.19928364e-01,  5.07180080e-01,\n",
       "       -5.36394244e-01,  1.86203086e-01,  9.62508660e-01, -7.66456429e-01,\n",
       "       -3.39044551e-01, -2.98132526e-01, -1.67840946e+00, -3.99228613e-01,\n",
       "        2.52285491e+00,  3.99434146e-01, -1.03702067e-01, -6.78331431e-01,\n",
       "        1.09691465e+00, -1.42697474e+00, -1.27945608e+00,  9.21731801e-01,\n",
       "       -1.17200905e+00,  3.79182189e-01, -1.40404989e-01,  5.45679906e-01,\n",
       "       -9.47314280e-01, -1.14166549e+00, -2.20179572e-01, -4.18176362e-01,\n",
       "       -2.88487101e-01,  8.48894985e-01,  1.11668020e+00, -2.10968308e-01,\n",
       "       -3.68916365e-02,  5.37478629e-01, -7.23888072e-01,  7.61970400e-01,\n",
       "        4.21014529e-01,  2.30104280e-01,  1.12018961e+00,  5.90351558e-01,\n",
       "        7.06724558e-01,  3.37287409e-01, -2.78130201e-01,  6.34351217e-01,\n",
       "        1.43029403e+00, -1.55550645e+00, -5.57027284e-01,  7.35026369e-01,\n",
       "       -4.63093973e-01, -1.37009852e-01,  5.23198371e-02, -1.00447158e-01,\n",
       "        5.35083996e-01,  2.08100477e-01,  1.19873799e+00,  1.47778997e-01,\n",
       "        3.67200749e-01,  1.15008637e+00,  4.89840452e-01, -4.06023718e-01,\n",
       "       -4.99389606e-01,  1.48043296e-01,  1.93474948e+00, -1.65682187e+00,\n",
       "        1.24945456e+00,  1.74922348e-01, -4.14345923e-01, -2.06527322e+00,\n",
       "       -5.38734711e-01, -2.01812736e-02,  2.24324002e-01, -2.69034431e-01,\n",
       "        1.29674649e+00, -3.47500410e-01,  6.77387814e-01, -5.38755858e-01,\n",
       "        2.64698812e-02,  2.87158540e-01, -2.47003022e-01,  5.85688515e-01,\n",
       "        3.05758031e-01, -2.50987643e-01,  1.05455058e+00, -1.70485127e-01,\n",
       "        1.40070153e+00,  1.45114550e+00,  8.56088778e-01,  7.78163465e-01,\n",
       "       -1.46083802e-01,  6.54207532e-01, -8.08177267e-01, -3.66055374e-02,\n",
       "        3.78154823e-01,  1.15377812e+00, -1.98871690e+00,  5.44961835e-02,\n",
       "       -2.07259389e-01,  9.58384646e-01, -1.14412472e+00, -5.86287671e-01,\n",
       "       -4.26513159e-01, -2.20922730e-02,  2.39912810e+00, -9.94251638e-01,\n",
       "        1.83241607e+00, -8.90300838e-01,  5.98383097e-01,  9.94507297e-01,\n",
       "        5.27254998e-01, -1.88889173e-01, -5.37027925e-01, -2.00973106e+00,\n",
       "        2.28948781e-01,  6.07449370e-01,  8.19414055e-01,  4.17921145e-01,\n",
       "        7.74744718e-01, -2.44312775e-01,  9.90059782e-01,  3.06820143e-01,\n",
       "       -4.33805703e-01,  5.43349380e-01,  2.04670245e-01,  1.58495318e+00,\n",
       "       -2.19834174e-01,  9.94966979e-01,  1.64477410e+00,  1.07905894e-01,\n",
       "       -2.38428078e-01,  1.26701404e+00, -8.09356665e-02,  3.59984302e-01,\n",
       "       -9.78501458e-01, -8.54297831e-01, -8.57094153e-01, -9.26657840e-01,\n",
       "       -1.06929336e+00, -8.04937242e-01,  8.74179370e-01,  2.39259137e-01,\n",
       "        1.99910839e+00,  1.91742484e+00, -9.97555902e-01,  4.56550750e-01,\n",
       "       -6.21151510e-01, -9.69958805e-02, -1.01062772e-01, -1.12829462e+00,\n",
       "       -1.23435328e+00, -2.09815033e-01,  1.66901797e+00,  2.57865858e-01,\n",
       "        1.71652105e+00, -4.99583618e-01,  5.05525785e-01,  2.66650810e-01,\n",
       "       -6.27533946e-01,  2.68605737e-01, -2.37988595e-01,  2.46665742e-01,\n",
       "        2.01495561e-01,  3.86333511e-02,  6.02729622e-01,  1.12020984e+00,\n",
       "        5.55609510e-01, -4.26698946e-01,  1.29828361e+00, -1.52834779e+00,\n",
       "        1.34660308e+00,  1.67736868e-01, -9.36817029e-01,  1.85053556e-02,\n",
       "        1.15174001e+00, -1.77572532e+00,  4.66928925e-01, -1.70197688e+00,\n",
       "        7.52360728e-01, -7.38762993e-01, -4.68886129e-01, -3.46896462e-01,\n",
       "        8.32239598e-01, -1.21651082e+00,  8.75729788e-01, -1.33667475e-01,\n",
       "       -2.21297463e+00,  1.12013828e+00, -4.13970826e-01,  4.50343446e-01,\n",
       "        1.34777430e-01,  5.40869405e-01, -1.01958456e+00, -1.22077012e-01,\n",
       "        2.52143025e-01,  5.22052042e-01, -1.73386330e+00,  7.64517679e-01,\n",
       "        3.73437213e-01,  1.02405559e-01, -7.42912564e-01, -5.85268571e-01,\n",
       "        1.96672759e+00, -4.60213901e-01,  4.09739177e-01,  1.28123218e+00,\n",
       "        6.87465356e-01,  7.04738084e-01, -1.11815382e+00,  1.04381008e-01,\n",
       "       -6.73070050e-01, -1.37912489e+00, -8.23542464e-01,  1.11795893e+00,\n",
       "        3.42283423e-01, -8.24603470e-01,  3.95345910e-01, -4.82666471e-01,\n",
       "        1.17021254e+00,  6.82307623e-01, -3.46034257e-01,  1.59310782e-01,\n",
       "       -9.10041609e-02, -1.12217985e-01, -1.57830410e+00, -1.09260489e-01,\n",
       "        8.77607793e-01,  7.04681187e-01, -7.23388640e-01, -1.17435232e+00,\n",
       "        1.48844829e+00, -2.07810744e+00,  8.68407830e-01,  1.70196472e+00,\n",
       "        1.98181548e+00,  7.24316356e-01, -5.43607714e-01, -2.08354413e+00,\n",
       "       -7.37530873e-01,  1.78422542e-01,  7.35273062e-01,  2.64984184e+00,\n",
       "       -6.69509980e-01, -5.95801171e-01, -8.56532895e-02, -2.23738190e-01,\n",
       "       -3.83195757e-01, -9.60343471e-01,  1.15228811e+00,  6.10829839e-01,\n",
       "       -7.79634249e-01, -5.49243994e-01, -1.47460017e+00, -2.59070410e-01,\n",
       "       -1.30829739e+00, -6.66876608e-01,  1.00621805e+00, -2.76985624e-01,\n",
       "        5.67084525e-01,  1.01056176e+00,  6.42556841e-03, -7.40524866e-01,\n",
       "        7.88254093e-01,  3.89132240e-01,  6.58404649e-01, -3.57917274e-01,\n",
       "        1.37420317e+00,  3.79316755e-01,  1.23813604e+00, -3.99358251e-01,\n",
       "        3.09113601e+00, -2.15748195e-02, -1.70733945e+00,  4.32518142e-01,\n",
       "        1.07327058e+00,  1.43040866e+00, -1.07612008e+00,  4.70646213e-01,\n",
       "       -1.31228014e+00,  1.48975171e+00,  1.87740424e+00,  6.68652544e-01,\n",
       "       -2.64054219e-01, -1.57049703e+00, -1.30278969e-01,  9.28025673e-01,\n",
       "        2.01226049e+00, -2.33557254e-01, -1.60452651e+00,  4.15714092e-01,\n",
       "       -3.85651295e-01,  2.41225252e-02, -7.71952152e-01,  1.37567692e+00,\n",
       "        3.86866416e-01,  3.54744935e-01,  5.21039034e-01, -9.64006985e-01,\n",
       "        9.81610573e-02,  2.50775240e-01, -5.92665216e-02,  1.00056812e-01,\n",
       "        9.96249329e-01,  2.79915370e-01,  4.84894515e-01, -9.13517046e-01,\n",
       "       -5.51921383e-01,  4.75263938e-01,  3.32434667e-01, -4.58977496e-01,\n",
       "       -6.27105468e-01, -2.89393510e-01, -1.29447957e+00, -1.10045397e+00,\n",
       "       -1.36631968e+00,  2.00879226e+00,  1.45858205e+00, -9.80863627e-01,\n",
       "        5.57958361e-01,  9.42910343e-02,  5.52804035e-01, -2.38063141e+00,\n",
       "       -2.25312472e-01,  2.65725117e-01, -5.50400842e-01, -1.76171740e+00,\n",
       "        1.17370412e+00,  5.66225151e-01,  1.17514749e+00,  7.41367226e-01,\n",
       "        9.92168672e-01, -9.34556993e-01, -8.69654041e-02,  8.51604704e-01,\n",
       "       -1.03497942e+00,  6.34254235e-01,  4.80215105e-01,  1.79181980e+00,\n",
       "       -7.54093492e-01, -4.75848796e-01, -1.27653589e-01,  1.13326591e-02,\n",
       "       -2.64079521e-01, -1.71052241e+00,  2.40821663e-01, -1.62476045e+00,\n",
       "        1.57304305e-01,  1.10582114e+00, -6.19464128e-01,  8.67372379e-01,\n",
       "        2.74992512e-02,  1.91848439e+00,  1.38434744e-01,  8.88748211e-01,\n",
       "       -1.93146451e-01,  1.80218035e+00,  1.15649276e+00,  6.58402815e-02,\n",
       "       -3.86135099e-01, -1.69720990e+00,  9.97250172e-01, -8.08954047e-01,\n",
       "       -1.35289248e-01, -1.53228660e+00,  7.71075233e-01, -1.91282484e-01,\n",
       "       -1.21571280e+00, -1.12504828e+00, -1.01355135e+00, -9.75356415e-02,\n",
       "        5.02327802e-02,  1.34030990e-01,  9.80241870e-01, -2.44842325e-01,\n",
       "       -3.60681244e-01, -1.60828543e+00,  4.38018104e-01, -2.14836927e-01,\n",
       "        9.41162313e-01,  1.59213545e-01, -3.55460355e-01, -3.49383300e-02,\n",
       "        7.78901845e-02,  6.69085098e-01,  2.14764106e-01,  3.41123967e-01,\n",
       "       -1.14215790e-01, -3.93970355e-01, -9.83383471e-01,  2.25781355e+00,\n",
       "       -6.76665442e-01,  4.71510931e-01,  4.14689362e-01,  2.18673069e-01,\n",
       "        1.14253314e+00,  8.41825086e-02, -1.93060307e+00, -2.38211036e-01,\n",
       "        3.19390723e-01, -5.39684705e-01,  4.46524025e-01, -4.03604347e-01,\n",
       "        2.66211857e+00, -8.72056082e-01,  4.78994487e-01,  9.31488581e-03,\n",
       "       -1.62467782e+00, -8.99229648e-01,  1.55547387e-01, -6.18958585e-01,\n",
       "       -4.97688083e-01, -3.09240387e-01, -1.33991043e+00,  1.51063137e+00,\n",
       "        5.27914852e-01, -1.13396316e+00, -3.97690857e-01,  5.81797762e-01,\n",
       "       -3.21352040e-01,  1.58368715e-01, -6.15385273e-01,  1.78029426e+00,\n",
       "        9.73546858e-01,  1.26568717e+00,  9.70280700e-01, -6.72523778e-01,\n",
       "       -4.46953841e-01, -1.43177081e+00, -1.52318760e+00,  7.45221429e-01,\n",
       "        9.77658853e-01,  1.08546086e-02,  1.74943244e-01, -3.74906438e-01,\n",
       "       -1.09407810e+00,  2.01260891e-01,  1.35872216e-01,  1.71249001e+00,\n",
       "       -1.47739063e-02, -9.11669545e-02,  5.31127947e-01, -2.41411076e+00,\n",
       "        2.87927068e-01, -9.89295618e-01,  2.08225634e-01,  5.65247607e-01,\n",
       "        9.03875034e-01, -4.23721060e-02, -7.74961229e-01,  1.96702752e+00,\n",
       "       -7.17414735e-01, -8.21711904e-01, -7.61679126e-01,  2.74223148e-01,\n",
       "        5.64801232e-01, -1.88904583e-01,  7.85583547e-01,  8.53865063e-03,\n",
       "        9.64666905e-01,  1.23093184e+00, -8.02530687e-01,  2.19179027e-01,\n",
       "       -7.34979363e-01,  9.87604342e-01, -1.20163342e-01, -1.86390765e-01,\n",
       "       -9.27223866e-02,  5.22919434e-01,  2.69775817e-01, -6.20878952e-01,\n",
       "       -1.10164329e+00, -5.37713114e-01,  3.75163343e-01, -1.94151811e+00,\n",
       "        5.81903021e-01,  9.45263714e-03, -7.87637306e-01, -1.89357889e-01,\n",
       "        1.00995774e+00,  1.52730956e+00, -1.78922578e+00,  1.11378193e+00,\n",
       "       -8.41022909e-02, -1.15145686e+00, -3.57183432e-01,  6.91841145e-01,\n",
       "       -1.59769339e+00, -8.67449537e-01, -4.46971412e-01, -4.87595915e-01,\n",
       "        1.85107781e+00,  5.31154503e-01, -4.62499392e-01,  8.28817523e-01,\n",
       "       -7.58198503e-01, -7.65617116e-02, -8.40666264e-01, -2.73946000e-01,\n",
       "       -1.42595950e+00, -2.19721646e-01, -1.79125332e+00, -6.75569762e-01,\n",
       "        4.76087655e-01, -8.70782965e-01, -1.18423470e+00, -8.40925107e-01,\n",
       "       -1.09547536e-01,  6.48473621e-01, -1.82630098e+00, -6.47549307e-01,\n",
       "        4.05569740e-01, -7.46170849e-01, -1.89589661e-01, -1.33151470e+00,\n",
       "       -6.38393208e-01, -2.87626867e+00, -1.15683910e+00,  1.07745335e+00,\n",
       "       -9.20226647e-01,  1.82136916e+00, -1.26357307e-01,  5.66240959e-01,\n",
       "        2.38217842e-01, -1.95604914e+00, -4.40727921e-01,  1.01957094e+00,\n",
       "        2.58410344e-01,  8.84004570e-01,  1.43489723e+00, -5.99487840e-01,\n",
       "        1.36268359e+00, -1.48633038e+00,  9.25400677e-01,  9.24121055e-02,\n",
       "       -6.47609003e-01, -1.94093380e+00, -2.21741967e-03,  1.57069987e-01,\n",
       "        1.44261201e+00,  1.72883516e-01,  1.11139632e-01,  1.43864776e+00,\n",
       "       -1.91882595e+00,  1.50299012e+00, -2.58101059e-01,  1.29813972e+00,\n",
       "       -9.36675495e-01, -1.80303726e-01, -1.50208383e+00,  5.53624028e-01,\n",
       "        2.60195614e-02,  5.57870475e-01, -6.74882099e-01, -5.84420778e-01,\n",
       "       -3.98179734e-01, -8.62332311e-01,  5.94545165e-01, -8.27631726e-01,\n",
       "       -4.38230524e-01,  1.82112701e+00,  8.85772137e-01, -6.13742682e-02,\n",
       "        4.07962725e-01,  4.48184235e-01, -6.59995529e-01,  6.71325448e-01,\n",
       "        5.90889353e-01,  2.09423260e+00,  2.83004121e-01, -1.49169925e+00,\n",
       "       -7.87239316e-01, -1.42901884e+00,  2.50607974e-01,  9.28619513e-01,\n",
       "       -1.01408860e-01,  1.78568051e+00,  3.87183221e-02, -8.59334059e-01,\n",
       "        2.04401938e+00,  8.79113270e-01, -5.00091076e-01, -2.78957051e-02,\n",
       "        5.78443369e-01,  2.43059475e-01, -1.16844523e-01, -3.34346880e-01,\n",
       "       -4.78697275e-01, -1.21561881e+00, -5.17618736e-01, -1.54987877e+00,\n",
       "       -1.28488893e+00,  8.06366772e-01, -1.97114041e-01, -3.59693763e-01,\n",
       "       -6.90553477e-02,  8.49863223e-02, -4.07593477e-01, -5.41006989e-01,\n",
       "        1.19047852e+00, -6.00242633e-01,  1.34349179e-01, -3.39330021e-02,\n",
       "        1.51140647e+00,  1.24522804e+00, -1.14926658e+00,  1.00832272e+00,\n",
       "        4.72935185e-01, -9.08050762e-01, -9.39704274e-01,  5.68289367e-01,\n",
       "       -5.83657825e-01,  1.03317819e+00, -1.31864164e+00,  3.39072301e-01,\n",
       "       -1.84019336e+00, -1.21873080e+00, -2.01129221e-01, -6.59143024e-01,\n",
       "        2.38048300e-01,  3.31020799e+00, -2.13038111e+00,  1.19198962e-01,\n",
       "        7.40503714e-01, -7.08078185e-01,  1.05122916e-02,  1.84262676e-01,\n",
       "       -1.05259610e+00,  9.13678434e-01, -1.15294387e+00, -2.41518132e-01,\n",
       "        6.32252148e-01, -2.29596625e-01,  5.82123569e-02,  7.21074508e-01,\n",
       "       -4.22779115e-01, -1.11920066e+00,  2.73306041e-01, -3.41431917e+00,\n",
       "       -8.01388345e-03,  2.20904990e+00,  1.24792396e+00, -1.14115599e+00,\n",
       "       -1.69971114e+00, -3.84562552e-01, -1.23318761e+00,  1.63437085e-02,\n",
       "        4.63085770e-01, -9.92785975e-02, -6.57112632e-02, -9.62775091e-01,\n",
       "       -4.39908397e-01,  9.18012083e-02, -2.09346754e+00, -1.57736390e+00,\n",
       "        1.99719300e-01, -1.60146415e-01, -2.67539838e-01,  1.25019410e+00,\n",
       "       -7.79570935e-01,  1.70324370e+00, -5.18002825e-01,  1.67416687e-01,\n",
       "        1.50155203e+00,  1.21224438e+00,  1.31777700e-02, -1.08364740e-01,\n",
       "       -7.77025642e-01, -7.57668768e-01,  1.64387341e-01,  1.64294409e+00,\n",
       "        1.07053350e+00, -1.64475544e+00, -5.92912768e-01,  7.12034096e-01,\n",
       "        1.00879405e+00,  9.04640504e-02, -1.10008669e+00,  7.99744400e-01,\n",
       "        1.63736819e+00,  1.74206121e-01,  5.50224065e-01, -9.51996348e-01,\n",
       "        1.61915337e+00, -8.34096048e-01,  6.98634779e-01, -1.30701510e+00,\n",
       "       -7.00183798e-01, -8.14237131e-01, -1.12036248e+00, -1.04942836e+00,\n",
       "       -1.15115695e+00,  1.10913265e+00,  3.04201377e-01,  4.85282467e-02,\n",
       "        2.32057354e-01,  2.24975865e-01, -1.62022976e+00, -2.68123040e-01,\n",
       "        8.12187079e-01,  4.98972005e-03, -7.55742338e-01,  4.67910805e-02,\n",
       "       -2.58851084e-01,  1.46308411e+00, -1.86046802e-02, -2.02736911e+00,\n",
       "       -1.69162303e+00, -1.32930597e+00, -1.29879486e+00, -2.82084464e+00,\n",
       "       -6.17609891e-01,  9.53200747e-01, -1.52493664e+00, -7.35974175e-02,\n",
       "        8.69247760e-01,  7.54113885e-02,  1.01059052e+00, -2.51868829e-01,\n",
       "        9.68778429e-02,  2.52136258e-02, -9.08937720e-01, -9.73903906e-01,\n",
       "        4.32335548e-01, -5.10123894e-02,  1.69212944e+00, -6.77146107e-01,\n",
       "        9.96773539e-01, -8.44295433e-01, -6.11638199e-01,  2.72853269e-01,\n",
       "        3.41995571e-01,  1.11406118e-01, -1.18492692e+00, -3.21037803e-01,\n",
       "        3.68339164e-01,  1.91861000e+00, -6.78373386e-01,  9.92266411e-01,\n",
       "       -2.70780318e-01, -2.38560313e-01, -4.43044423e-01,  5.27010748e-01,\n",
       "        1.54991340e+00,  3.59920233e-01, -1.26394565e+00,  3.32088450e-01,\n",
       "        1.77403311e+00, -2.77519737e-01, -1.35689927e+00, -1.60241577e+00,\n",
       "        3.76957316e-01,  5.09465261e-01, -1.18885187e+00,  6.01485433e-01,\n",
       "       -9.76647837e-03,  1.46027447e-01,  1.15561379e+00,  1.48042437e+00,\n",
       "       -1.13322922e+00,  1.72718822e+00, -1.69335570e+00, -1.00301426e+00,\n",
       "       -7.55627220e-01, -2.18298901e-02, -3.15090540e-02,  7.66944862e-01,\n",
       "        9.90858266e-01,  1.92295815e-01, -5.82320778e-01, -6.20581052e-01,\n",
       "       -1.94752271e-01,  6.20723537e-01, -1.20456394e+00,  2.46865443e-01,\n",
       "        7.07865643e-01,  5.34351491e-01,  3.49816108e-02, -4.76376047e-01,\n",
       "        1.13905043e-01, -1.10301735e+00, -2.00791539e-01,  5.24879429e-01,\n",
       "       -3.51462477e-01,  4.77938848e-01, -1.59167968e-01,  2.65450228e-01,\n",
       "        4.73685536e-01,  4.45410869e-01,  3.65717903e-01,  8.20303736e-01,\n",
       "       -3.12031032e-01,  5.76520655e-01, -1.12569396e+00,  1.83747706e-01,\n",
       "        6.86843374e-01, -6.25655050e-01, -1.51930635e-01, -1.47062493e-01,\n",
       "       -1.88229097e+00,  7.39436193e-01,  6.31855510e-01,  4.26523188e-01,\n",
       "       -1.24740372e+00, -2.46608530e-01,  1.28487355e-01,  5.77191693e-01])"
      ]
     },
     "execution_count": 19,
     "metadata": {},
     "output_type": "execute_result"
    }
   ],
   "source": [
    "data"
   ]
  },
  {
   "cell_type": "markdown",
   "metadata": {},
   "source": [
    "## Values Imputation (mean,median,mode)"
   ]
  },
  {
   "cell_type": "code",
   "execution_count": 22,
   "metadata": {},
   "outputs": [
    {
     "data": {
      "text/plain": [
       "29.69911764705882"
      ]
     },
     "execution_count": 22,
     "metadata": {},
     "output_type": "execute_result"
    }
   ],
   "source": [
    "train_df['Age'].mean()"
   ]
  },
  {
   "cell_type": "code",
   "execution_count": 23,
   "metadata": {},
   "outputs": [
    {
     "data": {
      "text/plain": [
       "0    24.0\n",
       "Name: Age, dtype: float64"
      ]
     },
     "execution_count": 23,
     "metadata": {},
     "output_type": "execute_result"
    }
   ],
   "source": [
    "train_df['Age'].mode()"
   ]
  },
  {
   "cell_type": "code",
   "execution_count": 24,
   "metadata": {},
   "outputs": [
    {
     "data": {
      "text/plain": [
       "28.0"
      ]
     },
     "execution_count": 24,
     "metadata": {},
     "output_type": "execute_result"
    }
   ],
   "source": [
    "train_df['Age'].median()"
   ]
  },
  {
   "cell_type": "markdown",
   "metadata": {},
   "source": [
    "***Now let us impute the values***"
   ]
  },
  {
   "cell_type": "code",
   "execution_count": 25,
   "metadata": {},
   "outputs": [
    {
     "name": "stderr",
     "output_type": "stream",
     "text": [
      "C:\\Users\\meetu\\AppData\\Local\\Temp\\ipykernel_6424\\3027320363.py:1: FutureWarning: A value is trying to be set on a copy of a DataFrame or Series through chained assignment using an inplace method.\n",
      "The behavior will change in pandas 3.0. This inplace method will never work because the intermediate object on which we are setting values always behaves as a copy.\n",
      "\n",
      "For example, when doing 'df[col].method(value, inplace=True)', try using 'df.method({col: value}, inplace=True)' or df[col] = df[col].method(value) instead, to perform the operation inplace on the original object.\n",
      "\n",
      "\n",
      "  train_df['Age'].fillna(train_df['Age'].mean(),inplace=True)\n"
     ]
    }
   ],
   "source": [
    "train_df['Age'].fillna(train_df['Age'].mean(),inplace=True)"
   ]
  },
  {
   "cell_type": "code",
   "execution_count": 26,
   "metadata": {},
   "outputs": [
    {
     "data": {
      "text/plain": [
       "PassengerId      0\n",
       "Survived         0\n",
       "Pclass           0\n",
       "Name             0\n",
       "Sex              0\n",
       "Age              0\n",
       "SibSp            0\n",
       "Parch            0\n",
       "Ticket           0\n",
       "Fare             0\n",
       "Cabin          687\n",
       "Embarked         2\n",
       "dtype: int64"
      ]
     },
     "execution_count": 26,
     "metadata": {},
     "output_type": "execute_result"
    }
   ],
   "source": [
    "train_df.isnull().sum()"
   ]
  },
  {
   "cell_type": "markdown",
   "metadata": {},
   "source": [
    "### Find the Percentage of values where cabin record is null"
   ]
  },
  {
   "cell_type": "code",
   "execution_count": 27,
   "metadata": {},
   "outputs": [
    {
     "name": "stdout",
     "output_type": "stream",
     "text": [
      "Percent of missing Cabin records is 77.10%\n"
     ]
    }
   ],
   "source": [
    "print('Percent of missing Cabin records is %.2f%%' %((train_df['Cabin'].isnull().sum()/train_df.shape[0])*100))"
   ]
  }
 ],
 "metadata": {
  "kernelspec": {
   "display_name": "Python 3",
   "language": "python",
   "name": "python3"
  },
  "language_info": {
   "codemirror_mode": {
    "name": "ipython",
    "version": 3
   },
   "file_extension": ".py",
   "mimetype": "text/x-python",
   "name": "python",
   "nbconvert_exporter": "python",
   "pygments_lexer": "ipython3",
   "version": "3.11.1"
  }
 },
 "nbformat": 4,
 "nbformat_minor": 2
}
